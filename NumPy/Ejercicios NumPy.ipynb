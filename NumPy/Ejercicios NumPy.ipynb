{
 "cells": [
  {
   "cell_type": "markdown",
   "id": "c55b521f",
   "metadata": {},
   "source": [
    "## Ejercicios NumPy"
   ]
  },
  {
   "cell_type": "code",
   "execution_count": 2,
   "id": "1266e287",
   "metadata": {},
   "outputs": [
    {
     "name": "stdout",
     "output_type": "stream",
     "text": [
      "1.22.4\n"
     ]
    }
   ],
   "source": [
    "# Importar el paquete numpy con el nombre np\n",
    "import numpy as np\n",
    "\n",
    "# Imprimir la versión numpy y la configuración\n",
    "print(np.__version__)"
   ]
  },
  {
   "cell_type": "markdown",
   "id": "0a5e5114",
   "metadata": {},
   "source": [
    "### Creacion de arreglo\n",
    "\n",
    "#### Cree una matriz numpy de tamaño 10, llena de ceros."
   ]
  },
  {
   "cell_type": "code",
   "execution_count": 2,
   "id": "c6d9543e",
   "metadata": {},
   "outputs": [
    {
     "data": {
      "text/plain": [
       "array([0., 0., 0., 0., 0., 0., 0., 0., 0., 0.])"
      ]
     },
     "execution_count": 2,
     "metadata": {},
     "output_type": "execute_result"
    }
   ],
   "source": [
    "np.zeros(10)"
   ]
  },
  {
   "cell_type": "markdown",
   "id": "269c4b03",
   "metadata": {},
   "source": [
    "#### Cree una matriz numpy con valores que van desde 10 a 49"
   ]
  },
  {
   "cell_type": "code",
   "execution_count": 3,
   "id": "c3878f27",
   "metadata": {},
   "outputs": [
    {
     "data": {
      "text/plain": [
       "array([10, 11, 12, 13, 14, 15, 16, 17, 18, 19, 20, 21, 22, 23, 24, 25, 26,\n",
       "       27, 28, 29, 30, 31, 32, 33, 34, 35, 36, 37, 38, 39, 40, 41, 42, 43,\n",
       "       44, 45, 46, 47, 48, 49])"
      ]
     },
     "execution_count": 3,
     "metadata": {},
     "output_type": "execute_result"
    }
   ],
   "source": [
    "np.arange(10, 50)"
   ]
  },
  {
   "cell_type": "markdown",
   "id": "c08cc1ca",
   "metadata": {},
   "source": [
    "#### Cree una matriz numpy de 2*2 enteros, llena de unos"
   ]
  },
  {
   "cell_type": "code",
   "execution_count": 26,
   "id": "1d25d756",
   "metadata": {},
   "outputs": [
    {
     "data": {
      "text/plain": [
       "array([[1, 1],\n",
       "       [1, 1]])"
      ]
     },
     "execution_count": 26,
     "metadata": {},
     "output_type": "execute_result"
    }
   ],
   "source": [
    "np.ones([2,2], dtype = int)"
   ]
  },
  {
   "cell_type": "markdown",
   "id": "c3c6c2c6",
   "metadata": {},
   "source": [
    "#### Cree una matriz numpy de 3*2 números flotantes, llena de unos"
   ]
  },
  {
   "cell_type": "code",
   "execution_count": 22,
   "id": "85520473",
   "metadata": {},
   "outputs": [
    {
     "data": {
      "text/plain": [
       "array([[1., 1.],\n",
       "       [1., 1.],\n",
       "       [1., 1.]])"
      ]
     },
     "execution_count": 22,
     "metadata": {},
     "output_type": "execute_result"
    }
   ],
   "source": [
    "np.ones([3,2], dtype = float)"
   ]
  },
  {
   "cell_type": "markdown",
   "id": "519cd072",
   "metadata": {},
   "source": [
    "#### Dada la matriz numpy X, cree una nueva matriz numpy con la misma forma y tipo que X, llena de unos"
   ]
  },
  {
   "cell_type": "code",
   "execution_count": 29,
   "id": "6faf4885",
   "metadata": {},
   "outputs": [
    {
     "data": {
      "text/plain": [
       "array([0, 1, 2, 3])"
      ]
     },
     "execution_count": 29,
     "metadata": {},
     "output_type": "execute_result"
    }
   ],
   "source": [
    "x = np.arange(4, dtype = int)\n",
    "x"
   ]
  },
  {
   "cell_type": "code",
   "execution_count": 30,
   "id": "03d75721",
   "metadata": {},
   "outputs": [
    {
     "data": {
      "text/plain": [
       "array([1, 1, 1, 1])"
      ]
     },
     "execution_count": 30,
     "metadata": {},
     "output_type": "execute_result"
    }
   ],
   "source": [
    "np.ones_like(x)"
   ]
  },
  {
   "cell_type": "markdown",
   "id": "273e9aae",
   "metadata": {},
   "source": [
    "#### Dada la matriz numpy X, cree una nueva matriz numpy con la misma forma y tipo que X, llena de ceros"
   ]
  },
  {
   "cell_type": "code",
   "execution_count": 34,
   "id": "5a0211e0",
   "metadata": {},
   "outputs": [],
   "source": [
    "x = np.array([[1,2,3], [4,5,6]], dtype = int)"
   ]
  },
  {
   "cell_type": "code",
   "execution_count": 35,
   "id": "bfd00f6b",
   "metadata": {},
   "outputs": [
    {
     "data": {
      "text/plain": [
       "array([[0, 0, 0],\n",
       "       [0, 0, 0]])"
      ]
     },
     "execution_count": 35,
     "metadata": {},
     "output_type": "execute_result"
    }
   ],
   "source": [
    "np.zeros_like(x)"
   ]
  },
  {
   "cell_type": "markdown",
   "id": "ae52fe41",
   "metadata": {},
   "source": [
    "#### Cree una matriz numpy de 4*4 enteros, llena de cincos"
   ]
  },
  {
   "cell_type": "code",
   "execution_count": 58,
   "id": "c4cbed65",
   "metadata": {},
   "outputs": [
    {
     "data": {
      "text/plain": [
       "array([[5, 5, 5, 5],\n",
       "       [5, 5, 5, 5],\n",
       "       [5, 5, 5, 5],\n",
       "       [5, 5, 5, 5]])"
      ]
     },
     "execution_count": 58,
     "metadata": {},
     "output_type": "execute_result"
    }
   ],
   "source": [
    "np.ones([4,4], dtype= int) * 5\n"
   ]
  },
  {
   "cell_type": "markdown",
   "id": "0b06dc94",
   "metadata": {},
   "source": [
    "#### Dada la matriz numpy X, cree una nueva matriz numpy con la misma forma y tipo que X, llena de sietes."
   ]
  },
  {
   "cell_type": "code",
   "execution_count": 79,
   "id": "20635544",
   "metadata": {},
   "outputs": [],
   "source": [
    "X = np.array([[2,3], [6,2]], dtype = int)"
   ]
  },
  {
   "cell_type": "code",
   "execution_count": 80,
   "id": "b6b79f2c",
   "metadata": {},
   "outputs": [
    {
     "data": {
      "text/plain": [
       "array([[7, 7],\n",
       "       [7, 7]])"
      ]
     },
     "execution_count": 80,
     "metadata": {},
     "output_type": "execute_result"
    }
   ],
   "source": [
    "np.full_like(X, 7)"
   ]
  },
  {
   "cell_type": "markdown",
   "id": "9dba2ccf",
   "metadata": {},
   "source": [
    "#### Cree una matriz numpy de identidad de 3*3 con unos en la diagonal y ceros en otros lugares"
   ]
  },
  {
   "cell_type": "code",
   "execution_count": 85,
   "id": "12fbb219",
   "metadata": {},
   "outputs": [
    {
     "data": {
      "text/plain": [
       "array([[1., 0., 0.],\n",
       "       [0., 1., 0.],\n",
       "       [0., 0., 1.]])"
      ]
     },
     "execution_count": 85,
     "metadata": {},
     "output_type": "execute_result"
    }
   ],
   "source": [
    "np.identity(3)"
   ]
  },
  {
   "cell_type": "markdown",
   "id": "de7a3e4d",
   "metadata": {},
   "source": [
    "#### Cree una matriz numpy, llena con 3 valores enteros aleatorios entre 1 y 10"
   ]
  },
  {
   "cell_type": "code",
   "execution_count": 101,
   "id": "bedf407c",
   "metadata": {},
   "outputs": [
    {
     "data": {
      "text/plain": [
       "array([7, 2, 2])"
      ]
     },
     "execution_count": 101,
     "metadata": {},
     "output_type": "execute_result"
    }
   ],
   "source": [
    "np.random.randint(10, size=3)"
   ]
  },
  {
   "cell_type": "markdown",
   "id": "94a4eafc",
   "metadata": {},
   "source": [
    "#### Cree una matriz numérica de 3x3x3, rellena con valores flotantes aleatorios"
   ]
  },
  {
   "cell_type": "code",
   "execution_count": 106,
   "id": "52928f94",
   "metadata": {},
   "outputs": [
    {
     "data": {
      "text/plain": [
       "array([[[-0.09205402,  0.44627667, -0.46278317],\n",
       "        [-1.10580855,  0.98265556, -1.11088176],\n",
       "        [ 0.31895711, -0.66940627, -0.78631847]],\n",
       "\n",
       "       [[ 0.01274845, -1.04579173,  0.0388862 ],\n",
       "        [-1.14473174, -0.33628304,  1.32604455],\n",
       "        [ 0.75792911,  0.44139549, -0.04953483]],\n",
       "\n",
       "       [[-0.53840694, -1.26526942,  0.82966905],\n",
       "        [ 1.16745211,  0.56827026,  2.81189408],\n",
       "        [ 1.70656475,  0.10690056,  0.65709382]]])"
      ]
     },
     "execution_count": 106,
     "metadata": {},
     "output_type": "execute_result"
    }
   ],
   "source": [
    "np.random.randn(3,3,3)"
   ]
  },
  {
   "cell_type": "markdown",
   "id": "b1dd87b9",
   "metadata": {},
   "source": [
    "#### Dada la lista de python X, conviértala en una matriz numpy Y"
   ]
  },
  {
   "cell_type": "code",
   "execution_count": 119,
   "id": "729a540f",
   "metadata": {},
   "outputs": [
    {
     "name": "stdout",
     "output_type": "stream",
     "text": [
      "[1, 2, 3, 4, 5, 6] <class 'list'>\n"
     ]
    }
   ],
   "source": [
    "x = [1,2,3,4,5,6]\n",
    "print(x, type(x))"
   ]
  },
  {
   "cell_type": "code",
   "execution_count": 118,
   "id": "7df02fe6",
   "metadata": {},
   "outputs": [
    {
     "name": "stdout",
     "output_type": "stream",
     "text": [
      "[1 2 3 4 5 6] <class 'numpy.ndarray'>\n"
     ]
    }
   ],
   "source": [
    "Y = np.array(x)\n",
    "print(Y, type(Y))"
   ]
  },
  {
   "cell_type": "markdown",
   "id": "50916e1b",
   "metadata": {},
   "source": [
    "#### Dada la matriz numpy X, haga una copia y guárdela en Y"
   ]
  },
  {
   "cell_type": "code",
   "execution_count": 126,
   "id": "40c2346a",
   "metadata": {},
   "outputs": [
    {
     "name": "stdout",
     "output_type": "stream",
     "text": [
      "[[1 2 3]\n",
      " [4 5 6]] 140107538680304\n"
     ]
    }
   ],
   "source": [
    "X = np.array([[1,2,3], [4,5,6]], dtype = int)\n",
    "print(X, id(X))"
   ]
  },
  {
   "cell_type": "code",
   "execution_count": 127,
   "id": "8fd9f692",
   "metadata": {},
   "outputs": [
    {
     "name": "stdout",
     "output_type": "stream",
     "text": [
      "[[1 2 3]\n",
      " [4 5 6]] 140106602747152\n"
     ]
    }
   ],
   "source": [
    "Y = X.copy()\n",
    "print(Y, id(Y))"
   ]
  },
  {
   "cell_type": "markdown",
   "id": "09d07518",
   "metadata": {},
   "source": [
    "#### Crear una matriz numpy con números del 1 al 10"
   ]
  },
  {
   "cell_type": "code",
   "execution_count": 128,
   "id": "8e9ad292",
   "metadata": {},
   "outputs": [
    {
     "data": {
      "text/plain": [
       "array([ 1,  2,  3,  4,  5,  6,  7,  8,  9, 10])"
      ]
     },
     "execution_count": 128,
     "metadata": {},
     "output_type": "execute_result"
    }
   ],
   "source": [
    "np.arange(1,11)"
   ]
  },
  {
   "cell_type": "markdown",
   "id": "e67f4f30",
   "metadata": {},
   "source": [
    "#### Cree una matriz numpy con los números impares entre 1 y 10"
   ]
  },
  {
   "cell_type": "code",
   "execution_count": 132,
   "id": "c1409f6b",
   "metadata": {},
   "outputs": [
    {
     "data": {
      "text/plain": [
       "array([1, 3, 5, 7, 9])"
      ]
     },
     "execution_count": 132,
     "metadata": {},
     "output_type": "execute_result"
    }
   ],
   "source": [
    "np.arange(1,11, 2)"
   ]
  },
  {
   "cell_type": "markdown",
   "id": "01c2eef9",
   "metadata": {},
   "source": [
    "#### Cree una matriz numpy con números del 1 al 10, en orden descendente"
   ]
  },
  {
   "cell_type": "code",
   "execution_count": 138,
   "id": "36b9ac3d",
   "metadata": {},
   "outputs": [
    {
     "data": {
      "text/plain": [
       "array([10,  9,  8,  7,  6,  5,  4,  3,  2,  1])"
      ]
     },
     "execution_count": 138,
     "metadata": {},
     "output_type": "execute_result"
    }
   ],
   "source": [
    "np.arange(1,11)[::-1]"
   ]
  },
  {
   "cell_type": "markdown",
   "id": "a611a221",
   "metadata": {},
   "source": [
    "#### Cree una matriz numérica de 3 * 3, llena de valores que van de 0 a 8"
   ]
  },
  {
   "cell_type": "code",
   "execution_count": 146,
   "id": "f19df9f1",
   "metadata": {},
   "outputs": [
    {
     "data": {
      "text/plain": [
       "array([[0, 1, 2],\n",
       "       [3, 4, 5],\n",
       "       [6, 7, 8]])"
      ]
     },
     "execution_count": 146,
     "metadata": {},
     "output_type": "execute_result"
    }
   ],
   "source": [
    "np.arange(9).reshape(3,3)"
   ]
  },
  {
   "cell_type": "markdown",
   "id": "9541398d",
   "metadata": {},
   "source": [
    "#### Muestra el tamaño de la memoria de la matriz Z numpy dada"
   ]
  },
  {
   "cell_type": "code",
   "execution_count": 151,
   "id": "f3638522",
   "metadata": {},
   "outputs": [
    {
     "name": "stdout",
     "output_type": "stream",
     "text": [
      "800 bytes\n"
     ]
    }
   ],
   "source": [
    "Z = np.zeros((10,10))\n",
    "print(\"%d bytes\" % (Z.size * Z.itemsize))"
   ]
  },
  {
   "cell_type": "markdown",
   "id": "6bac16d2",
   "metadata": {},
   "source": [
    "## Indexación de matrices"
   ]
  },
  {
   "cell_type": "markdown",
   "id": "35c4ebe2",
   "metadata": {},
   "source": [
    "#### Dada la matriz numpy X, muestra su primer elemento"
   ]
  },
  {
   "cell_type": "code",
   "execution_count": 13,
   "id": "6b769aac",
   "metadata": {},
   "outputs": [
    {
     "data": {
      "text/plain": [
       "array([1, 2, 3, 4, 5, 6])"
      ]
     },
     "execution_count": 13,
     "metadata": {},
     "output_type": "execute_result"
    }
   ],
   "source": [
    "X = np.array([1,2,3,4,5,6])\n",
    "X"
   ]
  },
  {
   "cell_type": "code",
   "execution_count": 16,
   "id": "6530943a",
   "metadata": {},
   "outputs": [
    {
     "data": {
      "text/plain": [
       "1"
      ]
     },
     "execution_count": 16,
     "metadata": {},
     "output_type": "execute_result"
    }
   ],
   "source": [
    "X[0]"
   ]
  },
  {
   "cell_type": "markdown",
   "id": "b1010a30",
   "metadata": {},
   "source": [
    "#### Dada la matriz numpy X, muestra su último elemento"
   ]
  },
  {
   "cell_type": "code",
   "execution_count": 17,
   "id": "1a5ae33d",
   "metadata": {},
   "outputs": [
    {
     "data": {
      "text/plain": [
       "6"
      ]
     },
     "execution_count": 17,
     "metadata": {},
     "output_type": "execute_result"
    }
   ],
   "source": [
    "X = np.array([1,2,3,4,5,6])\n",
    "X[-1]"
   ]
  },
  {
   "cell_type": "markdown",
   "id": "1c244542",
   "metadata": {},
   "source": [
    "#### Dada la matriz numpy X, muestra sus primeros tres elementos"
   ]
  },
  {
   "cell_type": "code",
   "execution_count": 18,
   "id": "800ea23d",
   "metadata": {},
   "outputs": [
    {
     "data": {
      "text/plain": [
       "array([1, 2, 3])"
      ]
     },
     "execution_count": 18,
     "metadata": {},
     "output_type": "execute_result"
    }
   ],
   "source": [
    "X = np.array([1,2,3,4,5,6])\n",
    "X[0:3] # ¡recorda! que los elementos comienzan desde el indice 0"
   ]
  },
  {
   "cell_type": "markdown",
   "id": "ef57bd73",
   "metadata": {},
   "source": [
    "#### Dada la matriz numpy X, muestra todos los elementos intermedios"
   ]
  },
  {
   "cell_type": "code",
   "execution_count": 24,
   "id": "eda06177",
   "metadata": {},
   "outputs": [
    {
     "data": {
      "text/plain": [
       "array(['B', 'C', 'D'], dtype='<U1')"
      ]
     },
     "execution_count": 24,
     "metadata": {},
     "output_type": "execute_result"
    }
   ],
   "source": [
    "X = np.array(['A','B','C','D','E'])\n",
    "X[1:-1]"
   ]
  },
  {
   "cell_type": "code",
   "execution_count": 25,
   "id": "fc4ae5dd",
   "metadata": {},
   "outputs": [],
   "source": [
    "#### Dada la matriz numpy X, muestra los elementos en posición inversa"
   ]
  },
  {
   "cell_type": "code",
   "execution_count": 36,
   "id": "d1bea434",
   "metadata": {},
   "outputs": [
    {
     "data": {
      "text/plain": [
       "array([6, 5, 4, 3, 2, 1])"
      ]
     },
     "execution_count": 36,
     "metadata": {},
     "output_type": "execute_result"
    }
   ],
   "source": [
    "X = np.array([1,2,3,4,5,6])\n",
    "#np.flipud(X) Para una matriz 2-D, esto voltea las entradas en cada columna en la dirección hacia arriba/abajo\n",
    "X[::-1]"
   ]
  },
  {
   "cell_type": "markdown",
   "id": "b5fdcb0d",
   "metadata": {},
   "source": [
    "#### Dada la matriz numpy X, muestra los elementos en una posición impar"
   ]
  },
  {
   "cell_type": "code",
   "execution_count": 44,
   "id": "064a11c7",
   "metadata": {},
   "outputs": [
    {
     "data": {
      "text/plain": [
       "array([1, 3, 5, 7, 9])"
      ]
     },
     "execution_count": 44,
     "metadata": {},
     "output_type": "execute_result"
    }
   ],
   "source": [
    "X = np.array([1,2,3,4,5,6,7,8,9,10])\n",
    "X[::2]"
   ]
  },
  {
   "cell_type": "markdown",
   "id": "56aa42d4",
   "metadata": {},
   "source": [
    "#### Dada la matriz numpy X, muestra los elementos de la primera fila"
   ]
  },
  {
   "cell_type": "code",
   "execution_count": 57,
   "id": "9280289b",
   "metadata": {},
   "outputs": [
    {
     "data": {
      "text/plain": [
       "array([1, 2, 3])"
      ]
     },
     "execution_count": 57,
     "metadata": {},
     "output_type": "execute_result"
    }
   ],
   "source": [
    "X = np.array([[1,2,3],[4,5,6],[7,8,9]])\n",
    "X[0]"
   ]
  },
  {
   "cell_type": "markdown",
   "id": "dceaaaa8",
   "metadata": {},
   "source": [
    "#### Dada la matriz numpy X, muestra los elementos de la última fila"
   ]
  },
  {
   "cell_type": "code",
   "execution_count": 61,
   "id": "75be1543",
   "metadata": {},
   "outputs": [
    {
     "data": {
      "text/plain": [
       "array([7, 8, 9])"
      ]
     },
     "execution_count": 61,
     "metadata": {},
     "output_type": "execute_result"
    }
   ],
   "source": [
    "X = np.array([[1,2,3],[4,5,6],[7,8,9]])\n",
    "X[2]"
   ]
  },
  {
   "cell_type": "markdown",
   "id": "59398f28",
   "metadata": {},
   "source": [
    "#### Dada la matriz numpy X, muestra el primer elemento en la primera fila"
   ]
  },
  {
   "cell_type": "code",
   "execution_count": 62,
   "id": "0c199a26",
   "metadata": {},
   "outputs": [
    {
     "data": {
      "text/plain": [
       "1"
      ]
     },
     "execution_count": 62,
     "metadata": {},
     "output_type": "execute_result"
    }
   ],
   "source": [
    "X = np.array([[1,2,3],[4,5,6],[7,8,9]])\n",
    "X[0,0]"
   ]
  },
  {
   "cell_type": "markdown",
   "id": "716a1768",
   "metadata": {},
   "source": [
    "#### Dada la matriz numpy X, muestra el último elemento en la última fila"
   ]
  },
  {
   "cell_type": "code",
   "execution_count": 65,
   "id": "7c42250a",
   "metadata": {},
   "outputs": [
    {
     "data": {
      "text/plain": [
       "9"
      ]
     },
     "execution_count": 65,
     "metadata": {},
     "output_type": "execute_result"
    }
   ],
   "source": [
    "X = np.array([[1,2,3],[4,5,6],[7,8,9]])\n",
    "X[2,2]"
   ]
  },
  {
   "cell_type": "markdown",
   "id": "9cd35df8",
   "metadata": {},
   "source": [
    "#### Dada la matriz numpy X, muestra los elementos de la fila central"
   ]
  },
  {
   "cell_type": "code",
   "execution_count": 71,
   "id": "a666dbfc",
   "metadata": {},
   "outputs": [
    {
     "data": {
      "text/plain": [
       "array([[5]])"
      ]
     },
     "execution_count": 71,
     "metadata": {},
     "output_type": "execute_result"
    }
   ],
   "source": [
    "X = np.array([[1,2,3],\n",
    "              [4,5,6],\n",
    "              [7,8,9]])\n",
    "X[1:-1, 1:-1]"
   ]
  },
  {
   "cell_type": "markdown",
   "id": "6d9d3fb7",
   "metadata": {},
   "source": [
    "#### Dada la matriz numpy X, muestre los dos primeros elementos en las dos primeras filas"
   ]
  },
  {
   "cell_type": "code",
   "execution_count": 88,
   "id": "fddd98c3",
   "metadata": {},
   "outputs": [
    {
     "data": {
      "text/plain": [
       "array([[1, 2],\n",
       "       [5, 6]])"
      ]
     },
     "execution_count": 88,
     "metadata": {},
     "output_type": "execute_result"
    }
   ],
   "source": [
    "X = np.array([\n",
    "    [1,   2,  3,  4],\n",
    "    [5,   6,  7,  8],\n",
    "    [9,  10, 11, 12],\n",
    "    [13, 14, 15, 16]\n",
    "])\n",
    "\n",
    "X[:2, :2]"
   ]
  },
  {
   "cell_type": "markdown",
   "id": "98dea4f8",
   "metadata": {},
   "source": [
    "#### Dada la matriz numpy X, muestre los dos últimos elementos en las dos últimas filas"
   ]
  },
  {
   "cell_type": "code",
   "execution_count": 91,
   "id": "d3ec243a",
   "metadata": {},
   "outputs": [
    {
     "data": {
      "text/plain": [
       "array([[11, 12],\n",
       "       [15, 16]])"
      ]
     },
     "execution_count": 91,
     "metadata": {},
     "output_type": "execute_result"
    }
   ],
   "source": [
    "X = np.array([\n",
    "    [1,   2,  3,  4],\n",
    "    [5,   6,  7,  8],\n",
    "    [9,  10, 11, 12],\n",
    "    [13, 14, 15, 16]\n",
    "])\n",
    "\n",
    "X[2:, 2:]"
   ]
  },
  {
   "cell_type": "markdown",
   "id": "37c5deb2",
   "metadata": {},
   "source": [
    "## Manipulación de matriz"
   ]
  },
  {
   "cell_type": "markdown",
   "id": "dbd18bea",
   "metadata": {},
   "source": [
    "### Convierta la matriz numpy de enteros dada en flotante"
   ]
  },
  {
   "cell_type": "code",
   "execution_count": 108,
   "id": "8d0b1d70",
   "metadata": {},
   "outputs": [
    {
     "name": "stdout",
     "output_type": "stream",
     "text": [
      "[-5. -3.  0. 10. 40.] float64\n"
     ]
    }
   ],
   "source": [
    "X = [-5, -3, 0, 10, 40]\n",
    "X = np.array(X, dtype = float)\n",
    "print(X, X.dtype)"
   ]
  },
  {
   "cell_type": "markdown",
   "id": "2a162591",
   "metadata": {},
   "source": [
    "#### Invierta la matriz numérica dada (el primer elemento se convierte en el último)"
   ]
  },
  {
   "cell_type": "code",
   "execution_count": 129,
   "id": "24e5ee27",
   "metadata": {},
   "outputs": [
    {
     "data": {
      "text/plain": [
       "[40, 10, 0, -3, -5]"
      ]
     },
     "execution_count": 129,
     "metadata": {},
     "output_type": "execute_result"
    }
   ],
   "source": [
    "X = [-5, -3, 0, 10, 40]\n",
    "X[::-1]"
   ]
  },
  {
   "cell_type": "markdown",
   "id": "c61a7400",
   "metadata": {},
   "source": [
    "#### Ordenar (clasificar) la matriz numpy dada"
   ]
  },
  {
   "cell_type": "code",
   "execution_count": 148,
   "id": "0c2a0f41",
   "metadata": {},
   "outputs": [
    {
     "data": {
      "text/plain": [
       "array([-10,  -2,  -1,   0,   1,  12,  53])"
      ]
     },
     "execution_count": 148,
     "metadata": {},
     "output_type": "execute_result"
    }
   ],
   "source": [
    "X = [0,1,-2,-1,12,53,-10]\n",
    "np.sort(X, axis = None)"
   ]
  },
  {
   "cell_type": "markdown",
   "id": "b8f2b250",
   "metadata": {},
   "source": [
    "#### Dada la matriz numpy X, establezca el quinto elemento igual a 1"
   ]
  },
  {
   "cell_type": "code",
   "execution_count": 167,
   "id": "faaaf418",
   "metadata": {},
   "outputs": [
    {
     "data": {
      "text/plain": [
       "array([0., 0., 0., 0., 1., 0., 0., 0., 0., 0.])"
      ]
     },
     "execution_count": 167,
     "metadata": {},
     "output_type": "execute_result"
    }
   ],
   "source": [
    "X = np.zeros(10)\n",
    "X[4] = 1\n",
    "X"
   ]
  },
  {
   "cell_type": "markdown",
   "id": "d000fb54",
   "metadata": {},
   "source": [
    "#### Dada la matriz numpy X, cambie el 50 con un 40"
   ]
  },
  {
   "cell_type": "code",
   "execution_count": 169,
   "id": "15ff5c82",
   "metadata": {},
   "outputs": [
    {
     "data": {
      "text/plain": [
       "array([10, 30, 20, 60, 40])"
      ]
     },
     "execution_count": 169,
     "metadata": {},
     "output_type": "execute_result"
    }
   ],
   "source": [
    "X = np.array([10,30,20,60,50])\n",
    "X[-1] = 40\n",
    "X"
   ]
  },
  {
   "cell_type": "markdown",
   "id": "97e64b46",
   "metadata": {},
   "source": [
    "#### Dada la matriz numpy X, cambie la última fila con todos los 1"
   ]
  },
  {
   "cell_type": "code",
   "execution_count": 178,
   "id": "bb275cd5",
   "metadata": {},
   "outputs": [
    {
     "data": {
      "text/plain": [
       "array([[ 1,  2,  3,  4],\n",
       "       [ 5,  6,  7,  8],\n",
       "       [ 9, 10, 11, 12],\n",
       "       [ 1,  1,  1,  1]])"
      ]
     },
     "execution_count": 178,
     "metadata": {},
     "output_type": "execute_result"
    }
   ],
   "source": [
    "X = np.array([\n",
    "    [1,   2,  3,  4],\n",
    "    [5,   6,  7,  8],\n",
    "    [9,  10, 11, 12],\n",
    "    [13, 14, 15, 16]\n",
    "])\n",
    "\n",
    "X[-1] = np.array((1,1,1,1))\n",
    "X"
   ]
  },
  {
   "cell_type": "markdown",
   "id": "5577d89b",
   "metadata": {},
   "source": [
    "#### Dada la matriz numérica X, cambie el último elemento en la última fila con un 0"
   ]
  },
  {
   "cell_type": "code",
   "execution_count": 179,
   "id": "1bdd0496",
   "metadata": {},
   "outputs": [
    {
     "data": {
      "text/plain": [
       "array([[ 1,  2,  3,  4],\n",
       "       [ 5,  6,  7,  8],\n",
       "       [ 9, 10, 11, 12],\n",
       "       [13, 14, 15,  0]])"
      ]
     },
     "execution_count": 179,
     "metadata": {},
     "output_type": "execute_result"
    }
   ],
   "source": [
    "X = np.array([\n",
    "    [1,   2,  3,  4],\n",
    "    [5,   6,  7,  8],\n",
    "    [9,  10, 11, 12],\n",
    "    [13, 14, 15, 16]\n",
    "])\n",
    "\n",
    "X[-1,-1] = 0\n",
    "X"
   ]
  },
  {
   "cell_type": "markdown",
   "id": "e4a39bea",
   "metadata": {},
   "source": [
    "#### Dada la matriz numpy X, agregue 5 a cada elemento"
   ]
  },
  {
   "cell_type": "code",
   "execution_count": 188,
   "id": "d27e9c66",
   "metadata": {},
   "outputs": [
    {
     "data": {
      "text/plain": [
       "array([[ 6,  7,  8,  9],\n",
       "       [10, 11, 12, 13],\n",
       "       [14, 15, 16, 17],\n",
       "       [18, 19, 20, 21]])"
      ]
     },
     "execution_count": 188,
     "metadata": {},
     "output_type": "execute_result"
    }
   ],
   "source": [
    "X = np.array([\n",
    "    [1,   2,  3,  4],\n",
    "    [5,   6,  7,  8],\n",
    "    [9,  10, 11, 12],\n",
    "    [13, 14, 15, 16]\n",
    "])\n",
    "\n",
    "X + 5"
   ]
  },
  {
   "cell_type": "markdown",
   "id": "58426760",
   "metadata": {},
   "source": [
    "## Arreglos booleanos (también llamados máscaras)"
   ]
  },
  {
   "cell_type": "markdown",
   "id": "a784350f",
   "metadata": {},
   "source": [
    "#### Dada la matriz numpy X, haga una máscara que muestre elementos negativos"
   ]
  },
  {
   "cell_type": "code",
   "execution_count": 191,
   "id": "3c24c93e",
   "metadata": {},
   "outputs": [
    {
     "data": {
      "text/plain": [
       "array([ True, False,  True,  True, False, False,  True,  True,  True,\n",
       "       False])"
      ]
     },
     "execution_count": 191,
     "metadata": {},
     "output_type": "execute_result"
    }
   ],
   "source": [
    "X = np.array([-1,2,0,-4,5,6,0,0,-9,10])\n",
    "\n",
    "mask = X <= 0\n",
    "mask"
   ]
  },
  {
   "cell_type": "markdown",
   "id": "c52c9258",
   "metadata": {},
   "source": [
    "#### Dada la matriz numpy X, obtenga los elementos negativos"
   ]
  },
  {
   "cell_type": "code",
   "execution_count": 194,
   "id": "a11dc2f0",
   "metadata": {},
   "outputs": [
    {
     "data": {
      "text/plain": [
       "array([-1,  0, -4,  0,  0, -9])"
      ]
     },
     "execution_count": 194,
     "metadata": {},
     "output_type": "execute_result"
    }
   ],
   "source": [
    "X = np.array([-1,2,0,-4,5,6,0,0,-9,10])\n",
    "mask = X <= 0\n",
    "X[mask]"
   ]
  },
  {
   "cell_type": "markdown",
   "id": "331ca24c",
   "metadata": {},
   "source": [
    "#### Dada la matriz numpy X, obtenga números superiores a 5"
   ]
  },
  {
   "cell_type": "code",
   "execution_count": 195,
   "id": "41b54d9b",
   "metadata": {},
   "outputs": [
    {
     "data": {
      "text/plain": [
       "array([ 5,  6, 10])"
      ]
     },
     "execution_count": 195,
     "metadata": {},
     "output_type": "execute_result"
    }
   ],
   "source": [
    "X = np.array([-1,2,0,-4,5,6,0,0,-9,10])\n",
    "mask = X >= 5\n",
    "X[mask]"
   ]
  },
  {
   "cell_type": "markdown",
   "id": "3e59af05",
   "metadata": {},
   "source": [
    "#### Dada la matriz numpy X, obtenga números más altos que la media de los elementos"
   ]
  },
  {
   "cell_type": "code",
   "execution_count": 199,
   "id": "853b7a9d",
   "metadata": {},
   "outputs": [
    {
     "data": {
      "text/plain": [
       "array([ 2,  5,  6, 10])"
      ]
     },
     "execution_count": 199,
     "metadata": {},
     "output_type": "execute_result"
    }
   ],
   "source": [
    "X = np.array([-1,2,0,-4,5,6,0,0,-9,10])\n",
    "\n",
    "mask = X > np.mean(X)\n",
    "X[mask]"
   ]
  },
  {
   "cell_type": "markdown",
   "id": "4f7e379c",
   "metadata": {},
   "source": [
    "#### Dada la matriz numpy X, obtenga números iguales a 2 o 10"
   ]
  },
  {
   "cell_type": "code",
   "execution_count": 205,
   "id": "74c64d13",
   "metadata": {},
   "outputs": [
    {
     "data": {
      "text/plain": [
       "array([ 2, 10])"
      ]
     },
     "execution_count": 205,
     "metadata": {},
     "output_type": "execute_result"
    }
   ],
   "source": [
    "X = np.array([-1,2,0,-4,5,6,0,0,-9,10])\n",
    "mask = (X == 2) | (X == 10) \n",
    "X[mask]"
   ]
  },
  {
   "cell_type": "markdown",
   "id": "04d0bd0f",
   "metadata": {},
   "source": [
    "## Funciones lógicas"
   ]
  },
  {
   "cell_type": "markdown",
   "id": "1a7c0bc7",
   "metadata": {},
   "source": [
    "#### Dada la matriz numpy X, devuelve True si ninguno de sus elementos es cero"
   ]
  },
  {
   "cell_type": "code",
   "execution_count": 208,
   "id": "4dfc950d",
   "metadata": {},
   "outputs": [
    {
     "data": {
      "text/plain": [
       "False"
      ]
     },
     "execution_count": 208,
     "metadata": {},
     "output_type": "execute_result"
    }
   ],
   "source": [
    "X = np.array([-1,2,0,-4,5,6,0,0,-9,10])\n",
    "\n",
    "X.all()"
   ]
  },
  {
   "cell_type": "markdown",
   "id": "c9b6c755",
   "metadata": {},
   "source": [
    "#### Dada la matriz numpy X, devuelve True si alguno de sus elementos es cero"
   ]
  },
  {
   "cell_type": "code",
   "execution_count": 209,
   "id": "c60198bb",
   "metadata": {},
   "outputs": [
    {
     "data": {
      "text/plain": [
       "True"
      ]
     },
     "execution_count": 209,
     "metadata": {},
     "output_type": "execute_result"
    }
   ],
   "source": [
    "X = np.array([-1,2,0,-4,5,6,0,0,-9,10])\n",
    "\n",
    "X.any()"
   ]
  },
  {
   "cell_type": "markdown",
   "id": "41dccf25",
   "metadata": {},
   "source": [
    "## Resumen estadístico"
   ]
  },
  {
   "cell_type": "markdown",
   "id": "0b38485e",
   "metadata": {},
   "source": [
    "#### Dada la matriz numpy X, muestra la suma de sus elementos"
   ]
  },
  {
   "cell_type": "code",
   "execution_count": 211,
   "id": "f2c4496f",
   "metadata": {},
   "outputs": [
    {
     "data": {
      "text/plain": [
       "43"
      ]
     },
     "execution_count": 211,
     "metadata": {},
     "output_type": "execute_result"
    }
   ],
   "source": [
    "X = np.array([3, 5, 6, 7, 2, 3, 4, 9, 4])\n",
    "\n",
    "X.sum()"
   ]
  },
  {
   "cell_type": "markdown",
   "id": "50e4ae33",
   "metadata": {},
   "source": [
    "#### Dada la matriz numpy X, muestra el valor medio de sus elementos"
   ]
  },
  {
   "cell_type": "code",
   "execution_count": 223,
   "id": "baf45a82",
   "metadata": {},
   "outputs": [
    {
     "data": {
      "text/plain": [
       "4.777777777777778"
      ]
     },
     "execution_count": 223,
     "metadata": {},
     "output_type": "execute_result"
    }
   ],
   "source": [
    "X = np.array([3, 5, 6, 7, 2, 3, 4, 9, 4])\n",
    "\n",
    "X.mean()"
   ]
  },
  {
   "cell_type": "markdown",
   "id": "e80f5644",
   "metadata": {},
   "source": [
    "#### Dada la matriz numpy X, mostrar la suma de sus columnas"
   ]
  },
  {
   "cell_type": "code",
   "execution_count": 227,
   "id": "ad133176",
   "metadata": {},
   "outputs": [
    {
     "data": {
      "text/plain": [
       "array([28, 32, 36, 40])"
      ]
     },
     "execution_count": 227,
     "metadata": {},
     "output_type": "execute_result"
    }
   ],
   "source": [
    "X = np.array([\n",
    "    [1,   2,  3,  4],\n",
    "    [5,   6,  7,  8],\n",
    "    [9,  10, 11, 12],\n",
    "    [13, 14, 15, 16]\n",
    "])\n",
    "\n",
    "\n",
    "X.sum(axis = 0) # Recorda: eje=0 columnas; eje=1 filas"
   ]
  },
  {
   "cell_type": "markdown",
   "id": "637d527c",
   "metadata": {},
   "source": [
    "#### Dada la matriz numpy X, muestra el valor medio de sus filas"
   ]
  },
  {
   "cell_type": "code",
   "execution_count": 228,
   "id": "4c26a3ad",
   "metadata": {},
   "outputs": [
    {
     "data": {
      "text/plain": [
       "array([ 2.5,  6.5, 10.5, 14.5])"
      ]
     },
     "execution_count": 228,
     "metadata": {},
     "output_type": "execute_result"
    }
   ],
   "source": [
    "X = np.array([\n",
    "    [1,   2,  3,  4],\n",
    "    [5,   6,  7,  8],\n",
    "    [9,  10, 11, 12],\n",
    "    [13, 14, 15, 16]\n",
    "])\n",
    "\n",
    "X.mean(axis=1)"
   ]
  },
  {
   "cell_type": "markdown",
   "id": "64ec79a0",
   "metadata": {},
   "source": [
    "#### Dada la matriz numpy X, muestra el valor máximo de sus elementos"
   ]
  },
  {
   "cell_type": "code",
   "execution_count": 229,
   "id": "36832ce6",
   "metadata": {},
   "outputs": [
    {
     "data": {
      "text/plain": [
       "16"
      ]
     },
     "execution_count": 229,
     "metadata": {},
     "output_type": "execute_result"
    }
   ],
   "source": [
    "X = np.array([\n",
    "    [1,   2,  3,  4],\n",
    "    [5,   6,  7,  8],\n",
    "    [9,  10, 11, 12],\n",
    "    [13, 14, 15, 16]\n",
    "])\n",
    "\n",
    "X.max()"
   ]
  },
  {
   "cell_type": "code",
   "execution_count": null,
   "id": "a8916829",
   "metadata": {},
   "outputs": [],
   "source": []
  }
 ],
 "metadata": {
  "kernelspec": {
   "display_name": "Python 3 (ipykernel)",
   "language": "python",
   "name": "python3"
  },
  "language_info": {
   "codemirror_mode": {
    "name": "ipython",
    "version": 3
   },
   "file_extension": ".py",
   "mimetype": "text/x-python",
   "name": "python",
   "nbconvert_exporter": "python",
   "pygments_lexer": "ipython3",
   "version": "3.8.10"
  }
 },
 "nbformat": 4,
 "nbformat_minor": 5
}
