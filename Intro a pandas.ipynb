{
 "cells": [
  {
   "cell_type": "markdown",
   "id": "b233cb92",
   "metadata": {},
   "source": [
    "## Pandas - Series"
   ]
  },
  {
   "cell_type": "code",
   "execution_count": 7,
   "id": "2c6b192c",
   "metadata": {},
   "outputs": [],
   "source": [
    "import pandas as pd\n",
    "import numpy as np"
   ]
  },
  {
   "cell_type": "markdown",
   "id": "922adb97",
   "metadata": {},
   "source": [
    "#### Empezaremos analizando \"El Grupo de los Siete\". El cual es un político formado por Canadá, Francia, Alemania, Italia, Japón, Reino Unido y Estados Unidos. Comenzaremos analizando la población y, para eso, usaremos un objeto pandas.Series."
   ]
  },
  {
   "cell_type": "code",
   "execution_count": 8,
   "id": "9b2f86f5",
   "metadata": {},
   "outputs": [],
   "source": [
    "# En millones\n",
    "g7_pop = pd.Series([35.467, 63.951, 80.940, 60.665, 127.061, 64.511, 318.523])"
   ]
  },
  {
   "cell_type": "code",
   "execution_count": 9,
   "id": "53441ea7",
   "metadata": {},
   "outputs": [
    {
     "data": {
      "text/plain": [
       "0     35.467\n",
       "1     63.951\n",
       "2     80.940\n",
       "3     60.665\n",
       "4    127.061\n",
       "5     64.511\n",
       "6    318.523\n",
       "dtype: float64"
      ]
     },
     "execution_count": 9,
     "metadata": {},
     "output_type": "execute_result"
    }
   ],
   "source": [
    "g7_pop"
   ]
  },
  {
   "cell_type": "markdown",
   "id": "88a2b432",
   "metadata": {},
   "source": [
    "#### Alguien podría no saber que estamos representando la población en millones de habitantes. La Serie puede tener un nombre, para documentar mejor el propósito de la Serie:"
   ]
  },
  {
   "cell_type": "code",
   "execution_count": 11,
   "id": "6b11117e",
   "metadata": {},
   "outputs": [],
   "source": [
    "g7_pop.name = 'g7 Población en millones'"
   ]
  },
  {
   "cell_type": "code",
   "execution_count": 12,
   "id": "f1d0af46",
   "metadata": {},
   "outputs": [
    {
     "data": {
      "text/plain": [
       "0     35.467\n",
       "1     63.951\n",
       "2     80.940\n",
       "3     60.665\n",
       "4    127.061\n",
       "5     64.511\n",
       "6    318.523\n",
       "Name: g7 Población en millones, dtype: float64"
      ]
     },
     "execution_count": 12,
     "metadata": {},
     "output_type": "execute_result"
    }
   ],
   "source": [
    "g7_pop"
   ]
  },
  {
   "cell_type": "markdown",
   "id": "acc175b4",
   "metadata": {},
   "source": [
    "#### Las series son bastante similares a las matrices numpy:"
   ]
  },
  {
   "cell_type": "code",
   "execution_count": 13,
   "id": "930d597b",
   "metadata": {},
   "outputs": [
    {
     "data": {
      "text/plain": [
       "dtype('float64')"
      ]
     },
     "execution_count": 13,
     "metadata": {},
     "output_type": "execute_result"
    }
   ],
   "source": [
    "g7_pop.dtype"
   ]
  },
  {
   "cell_type": "code",
   "execution_count": 14,
   "id": "927b205f",
   "metadata": {},
   "outputs": [
    {
     "data": {
      "text/plain": [
       "array([ 35.467,  63.951,  80.94 ,  60.665, 127.061,  64.511, 318.523])"
      ]
     },
     "execution_count": 14,
     "metadata": {},
     "output_type": "execute_result"
    }
   ],
   "source": [
    "g7_pop.values"
   ]
  },
  {
   "cell_type": "markdown",
   "id": "8c733004",
   "metadata": {},
   "source": [
    "#### En realidad están respaldadas por matrices numpy:"
   ]
  },
  {
   "cell_type": "code",
   "execution_count": 15,
   "id": "9d624d1e",
   "metadata": {},
   "outputs": [
    {
     "data": {
      "text/plain": [
       "numpy.ndarray"
      ]
     },
     "execution_count": 15,
     "metadata": {},
     "output_type": "execute_result"
    }
   ],
   "source": [
    "type(g7_pop.values)"
   ]
  },
  {
   "cell_type": "markdown",
   "id": "39045e2f",
   "metadata": {},
   "source": [
    "#### Y se ven como simples listas de Python o Numpy Arrays. Pero en realidad son más similares a los dictados de Python.\n",
    "Una Serie tiene un índice, que es similar al índice automático asignado a las listas de Python:"
   ]
  },
  {
   "cell_type": "markdown",
   "id": "708eab48",
   "metadata": {},
   "source": [
    "g7_pop"
   ]
  },
  {
   "cell_type": "code",
   "execution_count": 17,
   "id": "84c3df1e",
   "metadata": {},
   "outputs": [
    {
     "data": {
      "text/plain": [
       "35.467"
      ]
     },
     "execution_count": 17,
     "metadata": {},
     "output_type": "execute_result"
    }
   ],
   "source": [
    "g7_pop[0]"
   ]
  },
  {
   "cell_type": "code",
   "execution_count": 19,
   "id": "782bc4c1",
   "metadata": {},
   "outputs": [
    {
     "data": {
      "text/plain": [
       "60.665"
      ]
     },
     "execution_count": 19,
     "metadata": {},
     "output_type": "execute_result"
    }
   ],
   "source": [
    "g7_pop[3]"
   ]
  },
  {
   "cell_type": "code",
   "execution_count": 20,
   "id": "1121172b",
   "metadata": {},
   "outputs": [
    {
     "data": {
      "text/plain": [
       "RangeIndex(start=0, stop=7, step=1)"
      ]
     },
     "execution_count": 20,
     "metadata": {},
     "output_type": "execute_result"
    }
   ],
   "source": [
    "g7_pop.index"
   ]
  },
  {
   "cell_type": "code",
   "execution_count": 21,
   "id": "33cce45a",
   "metadata": {},
   "outputs": [],
   "source": [
    "l = ['a', 'b', 'c']"
   ]
  },
  {
   "cell_type": "markdown",
   "id": "46238b1b",
   "metadata": {},
   "source": [
    "#### Pero, a diferencia de las listas, podemos definir explícitamente el índice:"
   ]
  },
  {
   "cell_type": "code",
   "execution_count": 22,
   "id": "48efd4ff",
   "metadata": {},
   "outputs": [],
   "source": [
    "g7_pop.index = [\n",
    "    'Canada',\n",
    "    'France',\n",
    "    'Germany',\n",
    "    'Italy',\n",
    "    'Japan',\n",
    "    'United Kingdom',\n",
    "    'United States',\n",
    "]"
   ]
  },
  {
   "cell_type": "code",
   "execution_count": 23,
   "id": "11fa9007",
   "metadata": {},
   "outputs": [
    {
     "data": {
      "text/plain": [
       "Canada             35.467\n",
       "France             63.951\n",
       "Germany            80.940\n",
       "Italy              60.665\n",
       "Japan             127.061\n",
       "United Kingdom     64.511\n",
       "United States     318.523\n",
       "Name: g7 Población en millones, dtype: float64"
      ]
     },
     "execution_count": 23,
     "metadata": {},
     "output_type": "execute_result"
    }
   ],
   "source": [
    "g7_pop"
   ]
  },
  {
   "cell_type": "markdown",
   "id": "a783dce1",
   "metadata": {},
   "source": [
    "#### Podemos decir que las Series parecen \"diccionarios ordenados\". De hecho, podemos crear series a partir de diccionarios:"
   ]
  },
  {
   "cell_type": "code",
   "execution_count": 24,
   "id": "c02f2d0d",
   "metadata": {},
   "outputs": [
    {
     "data": {
      "text/plain": [
       "Canada             35.467\n",
       "France             63.951\n",
       "Germany            80.940\n",
       "Italy              60.665\n",
       "Japan             127.061\n",
       "United Kingdom     64.511\n",
       "United States     318.523\n",
       "Name: G7 Población en millones, dtype: float64"
      ]
     },
     "execution_count": 24,
     "metadata": {},
     "output_type": "execute_result"
    }
   ],
   "source": [
    "pd.Series({\n",
    "    'Canada': 35.467,\n",
    "    'France': 63.951,\n",
    "    'Germany': 80.940,\n",
    "    'Italy': 60.665,\n",
    "    'Japan': 127.061,\n",
    "    'United Kingdom': 64.511,\n",
    "    'United States': 318.523\n",
    "    \n",
    "}, name='G7 Población en millones')"
   ]
  },
  {
   "cell_type": "code",
   "execution_count": 30,
   "id": "da50aa12",
   "metadata": {},
   "outputs": [
    {
     "data": {
      "text/plain": [
       "Canada             35.467\n",
       "France             63.957\n",
       "Germany            80.940\n",
       "Italy              60.665\n",
       "Japan             127.061\n",
       "United Kingdom     64.511\n",
       "United States     318.523\n",
       "Name: G7 Población en millones, dtype: float64"
      ]
     },
     "execution_count": 30,
     "metadata": {},
     "output_type": "execute_result"
    }
   ],
   "source": [
    "pd.Series([35.467, 63.957, 80.940, 60.665, 127.061, 64.511, 318.523],\n",
    "         index=['Canada', 'France', 'Germany', 'Italy', 'Japan', 'United Kingdom', 'United States'],\n",
    "         name='G7 Población en millones')"
   ]
  },
  {
   "cell_type": "markdown",
   "id": "ccc145a2",
   "metadata": {},
   "source": [
    "#### También puede crear Series a partir de otras series, especificando índices:"
   ]
  },
  {
   "cell_type": "code",
   "execution_count": 32,
   "id": "0f714b2d",
   "metadata": {},
   "outputs": [
    {
     "data": {
      "text/plain": [
       "France     63.951\n",
       "Germany    80.940\n",
       "Italy      60.665\n",
       "Spain         NaN\n",
       "Name: g7 Población en millones, dtype: float64"
      ]
     },
     "execution_count": 32,
     "metadata": {},
     "output_type": "execute_result"
    }
   ],
   "source": [
    "pd.Series(g7_pop, index=['France', 'Germany', 'Italy', 'Spain'])"
   ]
  },
  {
   "cell_type": "markdown",
   "id": "0c404c92",
   "metadata": {},
   "source": [
    "## Indexación"
   ]
  },
  {
   "cell_type": "markdown",
   "id": "58c1b828",
   "metadata": {},
   "source": [
    "#### La indexación funciona de manera similar a las listas y diccionarios, usa el índice del elemento que está buscando:"
   ]
  },
  {
   "cell_type": "code",
   "execution_count": 33,
   "id": "9453582b",
   "metadata": {},
   "outputs": [
    {
     "data": {
      "text/plain": [
       "Canada             35.467\n",
       "France             63.951\n",
       "Germany            80.940\n",
       "Italy              60.665\n",
       "Japan             127.061\n",
       "United Kingdom     64.511\n",
       "United States     318.523\n",
       "Name: g7 Población en millones, dtype: float64"
      ]
     },
     "execution_count": 33,
     "metadata": {},
     "output_type": "execute_result"
    }
   ],
   "source": [
    "g7_pop"
   ]
  },
  {
   "cell_type": "code",
   "execution_count": 37,
   "id": "b5a10c3d",
   "metadata": {},
   "outputs": [
    {
     "data": {
      "text/plain": [
       "35.467"
      ]
     },
     "execution_count": 37,
     "metadata": {},
     "output_type": "execute_result"
    }
   ],
   "source": [
    "g7_pop['Canada']"
   ]
  },
  {
   "cell_type": "code",
   "execution_count": 38,
   "id": "7f1269d0",
   "metadata": {},
   "outputs": [
    {
     "data": {
      "text/plain": [
       "127.061"
      ]
     },
     "execution_count": 38,
     "metadata": {},
     "output_type": "execute_result"
    }
   ],
   "source": [
    "g7_pop['Japan']"
   ]
  },
  {
   "cell_type": "markdown",
   "id": "dabdf60e",
   "metadata": {},
   "source": [
    "#### También se pueden utilizar posiciones numéricas, con el atributo iloc:"
   ]
  },
  {
   "cell_type": "code",
   "execution_count": 39,
   "id": "760ff50f",
   "metadata": {},
   "outputs": [
    {
     "data": {
      "text/plain": [
       "35.467"
      ]
     },
     "execution_count": 39,
     "metadata": {},
     "output_type": "execute_result"
    }
   ],
   "source": [
    "g7_pop.iloc[0]"
   ]
  },
  {
   "cell_type": "code",
   "execution_count": 40,
   "id": "e9a98c10",
   "metadata": {},
   "outputs": [
    {
     "data": {
      "text/plain": [
       "318.523"
      ]
     },
     "execution_count": 40,
     "metadata": {},
     "output_type": "execute_result"
    }
   ],
   "source": [
    "g7_pop.iloc[-1]"
   ]
  },
  {
   "cell_type": "markdown",
   "id": "e81f25f8",
   "metadata": {},
   "source": [
    "#### Seleccionar varios elementos a la vez:"
   ]
  },
  {
   "cell_type": "code",
   "execution_count": 44,
   "id": "1c22abd1",
   "metadata": {},
   "outputs": [
    {
     "data": {
      "text/plain": [
       "Italy     60.665\n",
       "France    63.951\n",
       "Name: g7 Población en millones, dtype: float64"
      ]
     },
     "execution_count": 44,
     "metadata": {},
     "output_type": "execute_result"
    }
   ],
   "source": [
    "g7_pop[['Italy', 'France']]"
   ]
  },
  {
   "cell_type": "markdown",
   "id": "9c7a537f",
   "metadata": {},
   "source": [
    "#### (El resultado es otra Serie)"
   ]
  },
  {
   "cell_type": "code",
   "execution_count": 46,
   "id": "60e1edd8",
   "metadata": {},
   "outputs": [
    {
     "data": {
      "text/plain": [
       "Canada    35.467\n",
       "France    63.951\n",
       "Name: g7 Población en millones, dtype: float64"
      ]
     },
     "execution_count": 46,
     "metadata": {},
     "output_type": "execute_result"
    }
   ],
   "source": [
    "g7_pop.iloc[[0, 1]]"
   ]
  },
  {
   "cell_type": "markdown",
   "id": "4155b287",
   "metadata": {},
   "source": [
    "#### Rebanar también funciona, pero importante, en Pandas, el límite superior también está incluido:"
   ]
  },
  {
   "cell_type": "code",
   "execution_count": 48,
   "id": "743502e1",
   "metadata": {},
   "outputs": [
    {
     "data": {
      "text/plain": [
       "Canada     35.467\n",
       "France     63.951\n",
       "Germany    80.940\n",
       "Italy      60.665\n",
       "Name: g7 Población en millones, dtype: float64"
      ]
     },
     "execution_count": 48,
     "metadata": {},
     "output_type": "execute_result"
    }
   ],
   "source": [
    "g7_pop['Canada': 'Italy']"
   ]
  },
  {
   "cell_type": "markdown",
   "id": "3fe78537",
   "metadata": {},
   "source": [
    "## Selección condicional (matrices booleanas)\n"
   ]
  },
  {
   "cell_type": "markdown",
   "id": "3fef7624",
   "metadata": {},
   "source": [
    "#### Las mismas técnicas de matriz booleana que vimos aplicadas a matrices numpy se pueden usar para Pandas Series:"
   ]
  },
  {
   "cell_type": "code",
   "execution_count": 49,
   "id": "02be2600",
   "metadata": {},
   "outputs": [
    {
     "data": {
      "text/plain": [
       "Canada             35.467\n",
       "France             63.951\n",
       "Germany            80.940\n",
       "Italy              60.665\n",
       "Japan             127.061\n",
       "United Kingdom     64.511\n",
       "United States     318.523\n",
       "Name: g7 Población en millones, dtype: float64"
      ]
     },
     "execution_count": 49,
     "metadata": {},
     "output_type": "execute_result"
    }
   ],
   "source": [
    "g7_pop"
   ]
  },
  {
   "cell_type": "code",
   "execution_count": 50,
   "id": "fcaed84d",
   "metadata": {},
   "outputs": [
    {
     "data": {
      "text/plain": [
       "Canada            False\n",
       "France            False\n",
       "Germany            True\n",
       "Italy             False\n",
       "Japan              True\n",
       "United Kingdom    False\n",
       "United States      True\n",
       "Name: g7 Población en millones, dtype: bool"
      ]
     },
     "execution_count": 50,
     "metadata": {},
     "output_type": "execute_result"
    }
   ],
   "source": [
    "g7_pop > 70"
   ]
  },
  {
   "cell_type": "code",
   "execution_count": 51,
   "id": "04871c54",
   "metadata": {},
   "outputs": [
    {
     "data": {
      "text/plain": [
       "Germany           80.940\n",
       "Japan            127.061\n",
       "United States    318.523\n",
       "Name: g7 Población en millones, dtype: float64"
      ]
     },
     "execution_count": 51,
     "metadata": {},
     "output_type": "execute_result"
    }
   ],
   "source": [
    "g7_pop[g7_pop > 70]"
   ]
  },
  {
   "cell_type": "code",
   "execution_count": 52,
   "id": "c8055649",
   "metadata": {},
   "outputs": [
    {
     "data": {
      "text/plain": [
       "107.30257142857144"
      ]
     },
     "execution_count": 52,
     "metadata": {},
     "output_type": "execute_result"
    }
   ],
   "source": [
    "g7_pop.mean()"
   ]
  },
  {
   "cell_type": "code",
   "execution_count": 53,
   "id": "0d53ea10",
   "metadata": {},
   "outputs": [
    {
     "data": {
      "text/plain": [
       "Japan            127.061\n",
       "United States    318.523\n",
       "Name: g7 Población en millones, dtype: float64"
      ]
     },
     "execution_count": 53,
     "metadata": {},
     "output_type": "execute_result"
    }
   ],
   "source": [
    "g7_pop[g7_pop > g7_pop.mean()]"
   ]
  },
  {
   "cell_type": "code",
   "execution_count": 54,
   "id": "bb15dbff",
   "metadata": {},
   "outputs": [
    {
     "data": {
      "text/plain": [
       "97.24996987121581"
      ]
     },
     "execution_count": 54,
     "metadata": {},
     "output_type": "execute_result"
    }
   ],
   "source": [
    "g7_pop.std()"
   ]
  },
  {
   "cell_type": "code",
   "execution_count": null,
   "id": "ae2443a9",
   "metadata": {},
   "outputs": [],
   "source": [
    "~ not\n",
    "| or\n",
    "& and\n"
   ]
  },
  {
   "cell_type": "code",
   "execution_count": 57,
   "id": "89036628",
   "metadata": {},
   "outputs": [
    {
     "data": {
      "text/plain": [
       "France             63.951\n",
       "Germany            80.940\n",
       "Italy              60.665\n",
       "Japan             127.061\n",
       "United Kingdom     64.511\n",
       "United States     318.523\n",
       "Name: g7 Población en millones, dtype: float64"
      ]
     },
     "execution_count": 57,
     "metadata": {},
     "output_type": "execute_result"
    }
   ],
   "source": [
    "g7_pop[(g7_pop > g7_pop.mean() - g7_pop.std() / 2) | (g7_pop > g7_pop.mean() + g7_pop.std() / 2)]"
   ]
  },
  {
   "cell_type": "markdown",
   "id": "94cf4be5",
   "metadata": {},
   "source": [
    "## Operaciones y métodos\n"
   ]
  },
  {
   "cell_type": "markdown",
   "id": "41fb3ef2",
   "metadata": {},
   "source": [
    "#### Las series también admiten operaciones vectorizadas y funciones de agregación como Numpy:"
   ]
  },
  {
   "cell_type": "code",
   "execution_count": 58,
   "id": "c7e8a932",
   "metadata": {},
   "outputs": [
    {
     "data": {
      "text/plain": [
       "Canada             35.467\n",
       "France             63.951\n",
       "Germany            80.940\n",
       "Italy              60.665\n",
       "Japan             127.061\n",
       "United Kingdom     64.511\n",
       "United States     318.523\n",
       "Name: g7 Población en millones, dtype: float64"
      ]
     },
     "execution_count": 58,
     "metadata": {},
     "output_type": "execute_result"
    }
   ],
   "source": [
    "g7_pop"
   ]
  },
  {
   "cell_type": "code",
   "execution_count": 59,
   "id": "6d4db3c3",
   "metadata": {},
   "outputs": [
    {
     "data": {
      "text/plain": [
       "Canada             35467000.0\n",
       "France             63951000.0\n",
       "Germany            80940000.0\n",
       "Italy              60665000.0\n",
       "Japan             127061000.0\n",
       "United Kingdom     64511000.0\n",
       "United States     318523000.0\n",
       "Name: g7 Población en millones, dtype: float64"
      ]
     },
     "execution_count": 59,
     "metadata": {},
     "output_type": "execute_result"
    }
   ],
   "source": [
    "g7_pop * 1_000_000"
   ]
  },
  {
   "cell_type": "code",
   "execution_count": 60,
   "id": "3bfeeaaf",
   "metadata": {},
   "outputs": [
    {
     "data": {
      "text/plain": [
       "107.30257142857144"
      ]
     },
     "execution_count": 60,
     "metadata": {},
     "output_type": "execute_result"
    }
   ],
   "source": [
    "g7_pop.mean()"
   ]
  },
  {
   "cell_type": "code",
   "execution_count": 61,
   "id": "9e5fb01a",
   "metadata": {},
   "outputs": [
    {
     "data": {
      "text/plain": [
       "Canada            3.568603\n",
       "France            4.158117\n",
       "Germany           4.393708\n",
       "Italy             4.105367\n",
       "Japan             4.844667\n",
       "United Kingdom    4.166836\n",
       "United States     5.763695\n",
       "Name: g7 Población en millones, dtype: float64"
      ]
     },
     "execution_count": 61,
     "metadata": {},
     "output_type": "execute_result"
    }
   ],
   "source": [
    "np.log(g7_pop)"
   ]
  },
  {
   "cell_type": "code",
   "execution_count": 62,
   "id": "31b8f02c",
   "metadata": {},
   "outputs": [
    {
     "data": {
      "text/plain": [
       "68.51866666666666"
      ]
     },
     "execution_count": 62,
     "metadata": {},
     "output_type": "execute_result"
    }
   ],
   "source": [
    "g7_pop['France': 'Italy'].mean()"
   ]
  },
  {
   "cell_type": "markdown",
   "id": "511e4f58",
   "metadata": {},
   "source": [
    "## Matrices booleanas"
   ]
  },
  {
   "cell_type": "markdown",
   "id": "7fc396f2",
   "metadata": {},
   "source": [
    "#### (Funciona de la misma manera que numpy)"
   ]
  },
  {
   "cell_type": "code",
   "execution_count": 63,
   "id": "d62c9a71",
   "metadata": {},
   "outputs": [
    {
     "data": {
      "text/plain": [
       "Canada             35.467\n",
       "France             63.951\n",
       "Germany            80.940\n",
       "Italy              60.665\n",
       "Japan             127.061\n",
       "United Kingdom     64.511\n",
       "United States     318.523\n",
       "Name: g7 Población en millones, dtype: float64"
      ]
     },
     "execution_count": 63,
     "metadata": {},
     "output_type": "execute_result"
    }
   ],
   "source": [
    "g7_pop"
   ]
  },
  {
   "cell_type": "code",
   "execution_count": 65,
   "id": "edd91472",
   "metadata": {},
   "outputs": [
    {
     "data": {
      "text/plain": [
       "Canada            False\n",
       "France            False\n",
       "Germany            True\n",
       "Italy             False\n",
       "Japan              True\n",
       "United Kingdom    False\n",
       "United States      True\n",
       "Name: g7 Población en millones, dtype: bool"
      ]
     },
     "execution_count": 65,
     "metadata": {},
     "output_type": "execute_result"
    }
   ],
   "source": [
    "g7_pop > 80"
   ]
  },
  {
   "cell_type": "code",
   "execution_count": 66,
   "id": "9b274c00",
   "metadata": {},
   "outputs": [
    {
     "data": {
      "text/plain": [
       "Germany           80.940\n",
       "Japan            127.061\n",
       "United States    318.523\n",
       "Name: g7 Población en millones, dtype: float64"
      ]
     },
     "execution_count": 66,
     "metadata": {},
     "output_type": "execute_result"
    }
   ],
   "source": [
    "g7_pop[g7_pop > 80]"
   ]
  },
  {
   "cell_type": "code",
   "execution_count": 68,
   "id": "49f5fc18",
   "metadata": {},
   "outputs": [
    {
     "data": {
      "text/plain": [
       "Canada            35.467\n",
       "Germany           80.940\n",
       "Japan            127.061\n",
       "United States    318.523\n",
       "Name: g7 Población en millones, dtype: float64"
      ]
     },
     "execution_count": 68,
     "metadata": {},
     "output_type": "execute_result"
    }
   ],
   "source": [
    "g7_pop[(g7_pop > 80) | (g7_pop < 40)]"
   ]
  },
  {
   "cell_type": "code",
   "execution_count": 69,
   "id": "7d35d2ed",
   "metadata": {},
   "outputs": [
    {
     "data": {
      "text/plain": [
       "Germany     80.940\n",
       "Japan      127.061\n",
       "Name: g7 Población en millones, dtype: float64"
      ]
     },
     "execution_count": 69,
     "metadata": {},
     "output_type": "execute_result"
    }
   ],
   "source": [
    "g7_pop[(g7_pop > 80) & (g7_pop < 200)]"
   ]
  },
  {
   "cell_type": "markdown",
   "id": "ab2abd56",
   "metadata": {},
   "source": [
    "## Modificando serie"
   ]
  },
  {
   "cell_type": "code",
   "execution_count": 70,
   "id": "6bc74959",
   "metadata": {},
   "outputs": [],
   "source": [
    "g7_pop['Canada'] = 40.5"
   ]
  },
  {
   "cell_type": "code",
   "execution_count": 71,
   "id": "5e5bf075",
   "metadata": {},
   "outputs": [
    {
     "data": {
      "text/plain": [
       "Canada             40.500\n",
       "France             63.951\n",
       "Germany            80.940\n",
       "Italy              60.665\n",
       "Japan             127.061\n",
       "United Kingdom     64.511\n",
       "United States     318.523\n",
       "Name: g7 Población en millones, dtype: float64"
      ]
     },
     "execution_count": 71,
     "metadata": {},
     "output_type": "execute_result"
    }
   ],
   "source": [
    "g7_pop"
   ]
  },
  {
   "cell_type": "code",
   "execution_count": 72,
   "id": "e7975825",
   "metadata": {},
   "outputs": [],
   "source": [
    "g7_pop.iloc[-1] = 500"
   ]
  },
  {
   "cell_type": "code",
   "execution_count": 73,
   "id": "a925124e",
   "metadata": {},
   "outputs": [
    {
     "data": {
      "text/plain": [
       "Canada             40.500\n",
       "France             63.951\n",
       "Germany            80.940\n",
       "Italy              60.665\n",
       "Japan             127.061\n",
       "United Kingdom     64.511\n",
       "United States     500.000\n",
       "Name: g7 Población en millones, dtype: float64"
      ]
     },
     "execution_count": 73,
     "metadata": {},
     "output_type": "execute_result"
    }
   ],
   "source": [
    "g7_pop"
   ]
  },
  {
   "cell_type": "code",
   "execution_count": 74,
   "id": "8b8b0043",
   "metadata": {},
   "outputs": [
    {
     "data": {
      "text/plain": [
       "Canada            40.500\n",
       "France            63.951\n",
       "Italy             60.665\n",
       "United Kingdom    64.511\n",
       "Name: g7 Población en millones, dtype: float64"
      ]
     },
     "execution_count": 74,
     "metadata": {},
     "output_type": "execute_result"
    }
   ],
   "source": [
    "g7_pop[g7_pop < 70]"
   ]
  },
  {
   "cell_type": "code",
   "execution_count": 75,
   "id": "ad3e8a25",
   "metadata": {},
   "outputs": [],
   "source": [
    "g7_pop[g7_pop < 70] = 99.99"
   ]
  },
  {
   "cell_type": "code",
   "execution_count": 76,
   "id": "8f2386e4",
   "metadata": {},
   "outputs": [
    {
     "data": {
      "text/plain": [
       "Canada             99.990\n",
       "France             99.990\n",
       "Germany            80.940\n",
       "Italy              99.990\n",
       "Japan             127.061\n",
       "United Kingdom     99.990\n",
       "United States     500.000\n",
       "Name: g7 Población en millones, dtype: float64"
      ]
     },
     "execution_count": 76,
     "metadata": {},
     "output_type": "execute_result"
    }
   ],
   "source": [
    "g7_pop"
   ]
  },
  {
   "cell_type": "code",
   "execution_count": null,
   "id": "dac7ea6a",
   "metadata": {},
   "outputs": [],
   "source": []
  }
 ],
 "metadata": {
  "kernelspec": {
   "display_name": "Python 3 (ipykernel)",
   "language": "python",
   "name": "python3"
  },
  "language_info": {
   "codemirror_mode": {
    "name": "ipython",
    "version": 3
   },
   "file_extension": ".py",
   "mimetype": "text/x-python",
   "name": "python",
   "nbconvert_exporter": "python",
   "pygments_lexer": "ipython3",
   "version": "3.8.10"
  }
 },
 "nbformat": 4,
 "nbformat_minor": 5
}
